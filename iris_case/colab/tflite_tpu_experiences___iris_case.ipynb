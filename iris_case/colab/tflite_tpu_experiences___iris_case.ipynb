{
  "nbformat": 4,
  "nbformat_minor": 0,
  "metadata": {
    "colab": {
      "name": "tflite-tpu-experiences | iris_case.ipynb",
      "provenance": [],
      "private_outputs": true,
      "collapsed_sections": []
    },
    "kernelspec": {
      "name": "python3",
      "display_name": "Python 3"
    },
    "accelerator": "TPU"
  },
  "cells": [
    {
      "cell_type": "code",
      "metadata": {
        "id": "Sip0MIH81uTB",
        "colab_type": "code",
        "colab": {}
      },
      "source": [
        "import pandas as pd\n",
        "import numpy as np\n",
        "import tensorflow as tf"
      ],
      "execution_count": 0,
      "outputs": []
    },
    {
      "cell_type": "code",
      "metadata": {
        "id": "Zl5B5Wj93Y74",
        "colab_type": "code",
        "colab": {}
      },
      "source": [
        "#be sure tf 2.0 \n",
        "!pip install tensorflow==2.0.0 "
      ],
      "execution_count": 0,
      "outputs": []
    },
    {
      "cell_type": "code",
      "metadata": {
        "id": "WHqGIUl93Hvj",
        "colab_type": "code",
        "colab": {}
      },
      "source": [
        "tf.__version__"
      ],
      "execution_count": 0,
      "outputs": []
    },
    {
      "cell_type": "code",
      "metadata": {
        "id": "tgGmVKLy2Iit",
        "colab_type": "code",
        "colab": {}
      },
      "source": [
        "train_ds_url = \"http://download.tensorflow.org/data/iris_training.csv\"\n",
        "test_ds_url = \"http://download.tensorflow.org/data/iris_test.csv\"\n",
        "ds_columns = ['SepalLength', 'SepalWidth','PetalLength', 'PetalWidth', 'Plants']\n",
        "species = np.array(['Setosa', 'Versicolor', 'Virginica'], dtype=np.object)\n",
        "\n",
        "#Load data\n",
        "categories = 'Plants'\n",
        "\n",
        "train_path = tf.keras.utils.get_file(train_ds_url.split('/')[-1], train_ds_url)\n",
        "test_path = tf.keras.utils.get_file(test_ds_url.split('/')[-1], test_ds_url)\n",
        "\n",
        "train = pd.read_csv(train_path, names=ds_columns, header=0)\n",
        "train_plantfeatures, train_categories = train, train.pop(categories)\n",
        "\n",
        "test = pd.read_csv(test_path, names=ds_columns, header=0)\n",
        "test_plantfeatures, test_categories = test, test.pop(categories)\n",
        "\n",
        "y_categorical = tf.keras.utils.to_categorical(train_categories, num_classes=3)\n",
        "y_categorical_test = tf.keras.utils.to_categorical(test_categories, num_classes=3)"
      ],
      "execution_count": 0,
      "outputs": []
    },
    {
      "cell_type": "code",
      "metadata": {
        "id": "vnoWCaUV2aoM",
        "colab_type": "code",
        "colab": {}
      },
      "source": [
        "dataset = tf.data.Dataset.from_tensor_slices((train_plantfeatures.values, y_categorical))\n",
        "dataset = dataset.batch(32)\n",
        "dataset = dataset.shuffle(1000)\n",
        "dataset = dataset.repeat()\n",
        "\n",
        "dataset_test = tf.data.Dataset.from_tensor_slices((test_plantfeatures.values, y_categorical_test))\n",
        "dataset_test = dataset_test.batch(32)\n",
        "dataset_test = dataset_test.shuffle(1000)\n",
        "dataset_test = dataset_test.repeat()\n",
        "\n",
        "\n",
        "#build model\n",
        "model = tf.keras.Sequential([\n",
        "  tf.keras.layers.Dense(16, input_dim=4),\n",
        "  tf.keras.layers.Dense(3, activation=tf.nn.softmax),\n",
        "])\n",
        "\n",
        "model.summary()\n",
        "\n",
        "model.compile(loss='categorical_crossentropy',\n",
        "              optimizer='sgd',\n",
        "              metrics=['accuracy'])\n"
      ],
      "execution_count": 0,
      "outputs": []
    },
    {
      "cell_type": "code",
      "metadata": {
        "id": "tFR-Mbmj2puq",
        "colab_type": "code",
        "colab": {}
      },
      "source": [
        "#train model\n",
        "\n",
        "model.fit(dataset, steps_per_epoch=32, epochs=100, verbose=1)\n",
        "\n",
        "\n",
        "#eval model\n",
        "loss, accuracy = model.evaluate(dataset_test, steps=32)\n",
        "\n",
        "print(\"loss:%f\"% (loss))\n",
        "print(\"accuracy: %f\"%   (accuracy))\n",
        "\n"
      ],
      "execution_count": 0,
      "outputs": []
    },
    {
      "cell_type": "code",
      "metadata": {
        "id": "6JZP5Qfl2sUq",
        "colab_type": "code",
        "colab": {}
      },
      "source": [
        "# predict\n",
        "new_specie = np.array([7.9,3.8,6.4,2.0])\n",
        "predition = np.around(model.predict(np.expand_dims(new_specie, axis=0))).astype(np.int)[0]\n",
        "print(model.predict(np.expand_dims(new_specie, axis=0)))\n",
        "print(\"This species should be %s\" % species[predition.astype(np.bool)][0])\n",
        "\n",
        "model.predict(np.expand_dims(new_specie, axis=0))\n",
        "\n",
        "# traditional saving model [option 1]\n",
        "#model.save('iris_model.h5')\n",
        "\n",
        "\n"
      ],
      "execution_count": 0,
      "outputs": []
    },
    {
      "cell_type": "code",
      "metadata": {
        "id": "ENzydoTe2w2T",
        "colab_type": "code",
        "colab": {}
      },
      "source": [
        "#converting to tflite from keras\n",
        "converter = tf.lite.TFLiteConverter.from_keras_model(model)\n",
        "tflite_model = converter.convert()\n",
        "open (\"iris_lite.tflite\" , \"wb\") .write(tflite_model)"
      ],
      "execution_count": 0,
      "outputs": []
    },
    {
      "cell_type": "code",
      "metadata": {
        "id": "DtgajBxt5qLl",
        "colab_type": "code",
        "colab": {}
      },
      "source": [
        "!ls"
      ],
      "execution_count": 0,
      "outputs": []
    },
    {
      "cell_type": "code",
      "metadata": {
        "id": "P4lBWRtH6DVB",
        "colab_type": "code",
        "colab": {}
      },
      "source": [
        "!wget https://dl.google.com/coral/python/tflite_runtime-1.14.0-cp36-cp36m-linux_x86_64.whl"
      ],
      "execution_count": 0,
      "outputs": []
    },
    {
      "cell_type": "code",
      "metadata": {
        "id": "QnPICcSV5vb9",
        "colab_type": "code",
        "colab": {}
      },
      "source": [
        "!pip3 install tflite_runtime-1.14.0-cp36-cp36m-linux_x86_64.whl"
      ],
      "execution_count": 0,
      "outputs": []
    },
    {
      "cell_type": "code",
      "metadata": {
        "id": "b5j3NIwR53Op",
        "colab_type": "code",
        "colab": {}
      },
      "source": [
        "import numpy as np\n",
        "import tflite_runtime.interpreter as tflite\n",
        "\n",
        "\n",
        "interpreter = tflite.Interpreter(model_path=\"iris_lite.tflite\") # change the tflite model\n",
        "interpreter.allocate_tensors()\n",
        "\n",
        "input_details = interpreter.get_input_details()\n",
        "output_details = interpreter.get_output_details()\n",
        "\n",
        "# Test model\n",
        "new_specie = np.array([7.9,3.8,6.4,2.0]) # general example to predict\n",
        "input_data = np.array(np.expand_dims(new_specie, axis=0), dtype=np.float32)\n",
        "interpreter.set_tensor(input_details[0]['index'], input_data)\n",
        "\n",
        "interpreter.invoke()\n",
        "\n",
        "output_data = interpreter.get_tensor(output_details[0]['index'])\n",
        "print(output_data)"
      ],
      "execution_count": 0,
      "outputs": []
    }
  ]
}