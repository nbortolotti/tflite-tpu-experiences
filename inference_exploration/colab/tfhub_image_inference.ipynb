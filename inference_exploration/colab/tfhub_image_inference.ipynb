{
  "nbformat": 4,
  "nbformat_minor": 0,
  "metadata": {
    "colab": {
      "name": "tensorflow hub.ipynb",
      "provenance": [],
      "private_outputs": true,
      "toc_visible": true
    },
    "kernelspec": {
      "name": "python3",
      "display_name": "Python 3"
    }
  },
  "cells": [
        {
      "cell_type": "markdown",
      "metadata": {
        "colab_type": "text",
        "id": "view-in-github"
      },
      "source": [
        "\u003ca href=\"https://colab.research.google.com/github/nbortolotti/tflite-tpu-experiences/blob/master/inference_exploration/colab/tfhub_image_inference.ipynb\" target=\"_parent\"\u003e\u003cimg src=\"https://colab.research.google.com/assets/colab-badge.svg\" alt=\"Open In Colab\"/\u003e\u003c/a\u003e\n"
      ]
    },
    {
      "cell_type": "code",
      "metadata": {
        "id": "z5RB_i7rjJLW",
        "colab_type": "code",
        "colab": {}
      },
      "source": [
        "%tensorflow_version 2.x"
      ],
      "execution_count": 0,
      "outputs": []
    },
    {
      "cell_type": "code",
      "metadata": {
        "id": "KmcWJoySnx19",
        "colab_type": "code",
        "colab": {}
      },
      "source": [
        "import numpy as np\n",
        "import PIL.Image as Image\n",
        "import matplotlib.pylab as plt\n",
        "import time\n",
        "\n",
        "import tensorflow as tf\n",
        "import tensorflow_hub as hub\n",
        "from tensorflow.keras import layers"
      ],
      "execution_count": 0,
      "outputs": []
    },
    {
      "cell_type": "code",
      "metadata": {
        "id": "0_UQot0MvAft",
        "colab_type": "code",
        "colab": {}
      },
      "source": [
        "#classifier_url =\"https://tfhub.dev/google/tf2-preview/mobilenet_v2/classification/2\"\n",
        "#classifier_url =\"https://tfhub.dev/google/imagenet/mobilenet_v2_140_224/classification/4\"\n",
        "#classifier_url =\"https://tfhub.dev/google/imagenet/mobilenet_v2_130_224/classification/4\"\n",
        "#classifier_url = \"https://tfhub.dev/google/imagenet/mobilenet_v2_035_224/classification/4\"\n",
        "\n",
        "classifier_url = \"https://tfhub.dev/google/imagenet/mobilenet_v2_100_224/classification/4\""
      ],
      "execution_count": 0,
      "outputs": []
    },
    {
      "cell_type": "code",
      "metadata": {
        "id": "0HMNn6XvvHJA",
        "colab_type": "code",
        "colab": {}
      },
      "source": [
        "IMAGE_SHAPE = (224, 224)\n",
        "\n",
        "classifier = tf.keras.Sequential([\n",
        "    hub.KerasLayer(classifier_url, input_shape=IMAGE_SHAPE+(3,))\n",
        "])"
      ],
      "execution_count": 0,
      "outputs": []
    },
    {
      "cell_type": "code",
      "metadata": {
        "id": "_mPFj8mXvQB8",
        "colab_type": "code",
        "colab": {}
      },
      "source": [
        "img_file = tf.keras.utils.get_file('image1.jpg','https://storage.googleapis.com/demostration_images/2.jpg')\n",
        "img = Image.open(img_file).resize(IMAGE_SHAPE)"
      ],
      "execution_count": 0,
      "outputs": []
    },
    {
      "cell_type": "code",
      "metadata": {
        "id": "_8yhFG9ovb_k",
        "colab_type": "code",
        "colab": {}
      },
      "source": [
        "img_array = np.array(img)/255.0\n",
        "img_array.shape"
      ],
      "execution_count": 0,
      "outputs": []
    },
    {
      "cell_type": "code",
      "metadata": {
        "id": "lORJ0f3Xvf-k",
        "colab_type": "code",
        "colab": {}
      },
      "source": [
        "result = classifier.predict(img_array[np.newaxis, ...])\n",
        "result.shape"
      ],
      "execution_count": 0,
      "outputs": []
    },
    {
      "cell_type": "code",
      "metadata": {
        "id": "wrX94K1dvjGf",
        "colab_type": "code",
        "colab": {}
      },
      "source": [
        "predicted_class = np.argmax(result[0], axis=-1)\n",
        "predicted_class"
      ],
      "execution_count": 0,
      "outputs": []
    },
    {
      "cell_type": "code",
      "metadata": {
        "id": "8RKDTpzBv8lO",
        "colab_type": "code",
        "colab": {}
      },
      "source": [
        "labels_path = tf.keras.utils.get_file('ImageNetLabels.txt','https://storage.googleapis.com/download.tensorflow.org/data/ImageNetLabels.txt')\n",
        "imagenet_labels = np.array(open(labels_path).read().splitlines())"
      ],
      "execution_count": 0,
      "outputs": []
    },
    {
      "cell_type": "code",
      "metadata": {
        "id": "dke-1OSiwB1I",
        "colab_type": "code",
        "colab": {}
      },
      "source": [
        "plt.imshow(img_array)\n",
        "plt.axis('off')\n",
        "predicted_class_name = imagenet_labels[predicted_class]\n",
        "_ = plt.title(\"Prediction: \" + predicted_class_name.title())"
      ],
      "execution_count": 0,
      "outputs": []
    },
    {
      "cell_type": "code",
      "metadata": {
        "id": "9fdKotwEygjN",
        "colab_type": "code",
        "colab": {}
      },
      "source": [
        "start = time.time()\n",
        "result = classifier.predict(img_array[np.newaxis, ...])\n",
        "predicted_class = np.argmax(result[0], axis=-1)\n",
        "predicted_class_name = imagenet_labels[predicted_class]\n",
        "end = time.time()\n",
        "print(end - start)"
      ],
      "execution_count": 0,
      "outputs": []
    }
  ]
}
