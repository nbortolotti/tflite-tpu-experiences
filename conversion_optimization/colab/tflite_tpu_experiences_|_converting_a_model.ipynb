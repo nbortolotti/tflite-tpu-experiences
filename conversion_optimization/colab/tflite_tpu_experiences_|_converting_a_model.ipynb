{
  "nbformat": 4,
  "nbformat_minor": 0,
  "metadata": {
    "colab": {
      "name": "tflite-tpu-experiences | converting a model.ipynb",
      "provenance": [],
      "private_outputs": true,
      "authorship_tag": "ABX9TyO4Sb4av6zEOzIuizRDFZ1+",
      "include_colab_link": true
    },
    "kernelspec": {
      "name": "python3",
      "display_name": "Python 3"
    }
  },
  "cells": [
    {
      "cell_type": "markdown",
      "metadata": {
        "id": "view-in-github",
        "colab_type": "text"
      },
      "source": [
        "<a href=\"https://colab.research.google.com/github/nbortolotti/tflite-tpu-experiences/blob/colab/conversion_optimization/colab/tflite_tpu_experiences_%7C_converting_a_model.ipynb\" target=\"_parent\"><img src=\"https://colab.research.google.com/assets/colab-badge.svg\" alt=\"Open In Colab\"/></a>"
      ]
    },
    {
      "cell_type": "code",
      "metadata": {
        "id": "ZceC3WnGsaX6",
        "colab_type": "code",
        "colab": {}
      },
      "source": [
        "import tensorflow  as tf\n",
        "import pathlib "
      ],
      "execution_count": 0,
      "outputs": []
    },
    {
      "cell_type": "markdown",
      "metadata": {
        "id": "KgOr9gccspGd",
        "colab_type": "text"
      },
      "source": [
        "# Keras to TFLite"
      ]
    },
    {
      "cell_type": "code",
      "metadata": {
        "id": "NzTy3N8ctB94",
        "colab_type": "code",
        "colab": {}
      },
      "source": [
        "model = tf.keras.applications.MobileNetV2(weights='imagenet',input_shape=(224,224,3))"
      ],
      "execution_count": 0,
      "outputs": []
    },
    {
      "cell_type": "markdown",
      "metadata": {
        "id": "SX-rlsLYtlS2",
        "colab_type": "text"
      },
      "source": [
        "## convert the model"
      ]
    },
    {
      "cell_type": "code",
      "metadata": {
        "id": "oJ4dBxtxthw0",
        "colab_type": "code",
        "colab": {}
      },
      "source": [
        "converter = tf.lite.TFLiteConverter.from_keras_model(model)"
      ],
      "execution_count": 0,
      "outputs": []
    },
    {
      "cell_type": "code",
      "metadata": {
        "id": "xza4sVHPt_qC",
        "colab_type": "code",
        "colab": {}
      },
      "source": [
        "tflite_model = converter.convert()"
      ],
      "execution_count": 0,
      "outputs": []
    },
    {
      "cell_type": "markdown",
      "metadata": {
        "id": "lPfGSqIZuTmt",
        "colab_type": "text"
      },
      "source": [
        "## save the model"
      ]
    },
    {
      "cell_type": "code",
      "metadata": {
        "id": "_D3OcBZ-uVcH",
        "colab_type": "code",
        "colab": {}
      },
      "source": [
        "tflite_model_file = pathlib.Path('/tmp/mnv2.tflite')\n",
        "tflite_model_file.write_bytes(tflite_model)"
      ],
      "execution_count": 0,
      "outputs": []
    }
  ]
}