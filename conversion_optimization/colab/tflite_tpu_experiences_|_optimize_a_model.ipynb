{
  "nbformat": 4,
  "nbformat_minor": 0,
  "metadata": {
    "colab": {
      "name": "tflite-tpu-experiences | optimize a model.ipynb",
      "provenance": [],
      "private_outputs": true,
      "authorship_tag": "ABX9TyPqkeHw+x16Uq6fypVnE6KL",
      "include_colab_link": true
    },
    "kernelspec": {
      "name": "python3",
      "display_name": "Python 3"
    }
  },
  "cells": [
    {
      "cell_type": "markdown",
      "metadata": {
        "id": "view-in-github",
        "colab_type": "text"
      },
      "source": [
        "<a href=\"https://colab.research.google.com/github/nbortolotti/tflite-tpu-experiences/blob/colab/conversion_optimization/colab/tflite_tpu_experiences_%7C_optimize_a_model.ipynb\" target=\"_parent\"><img src=\"https://colab.research.google.com/assets/colab-badge.svg\" alt=\"Open In Colab\"/></a>"
      ]
    },
    {
      "cell_type": "code",
      "metadata": {
        "id": "0bnIn8CHxew2",
        "colab_type": "code",
        "colab": {}
      },
      "source": [
        "import tensorflow as tf\n",
        "import pathlib "
      ],
      "execution_count": 0,
      "outputs": []
    },
    {
      "cell_type": "code",
      "metadata": {
        "id": "gB43wlzWxrv0",
        "colab_type": "code",
        "colab": {}
      },
      "source": [
        "model = tf.keras.applications.MobileNetV2(weights='imagenet',input_shape=(224,224,3))\n",
        "converter = tf.lite.TFLiteConverter.from_keras_model(model)\n",
        "converter.optimizations = [tf.lite.Optimize.OPTIMIZE_FOR_SIZE]\n",
        "tflite_model = converter.convert()"
      ],
      "execution_count": 0,
      "outputs": []
    },
    {
      "cell_type": "code",
      "metadata": {
        "id": "FV-XGHceykUz",
        "colab_type": "code",
        "colab": {}
      },
      "source": [
        "tflite_model_file = pathlib.Path('/tmp/mnv2_opt.tflite')\n",
        "tflite_model_file.write_bytes(tflite_model)"
      ],
      "execution_count": 0,
      "outputs": []
    }
  ]
}